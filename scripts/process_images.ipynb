{
 "cells": [
  {
   "cell_type": "code",
   "execution_count": 1,
   "metadata": {},
   "outputs": [],
   "source": [
    "import numpy as np\n",
    "import os\n",
    "import cv2\n",
    "from matplotlib import pyplot as plt"
   ]
  },
  {
   "cell_type": "code",
   "execution_count": 16,
   "metadata": {},
   "outputs": [
    {
     "data": {
      "image/png": "[encoded data removed]",
      "text/plain": [
       "<Figure size 640x480 with 1 Axes>"
      ]
     },
     "metadata": {},
     "output_type": "display_data"
    }
   ],
   "source": [
    "# Load the image\n",
    "image_path = \"../data/children/stimuli_G/1002.png\"\n",
    "image = cv2.imread(image_path, cv2.IMREAD_GRAYSCALE)\n",
    "\n",
    "# Thresholding to create a binary image (convert grey lines to black)\n",
    "_, binary_image = cv2.threshold(image, 200, 255, cv2.THRESH_BINARY_INV)\n",
    "\n",
    "# # Dilation to thicken the lines\n",
    "kernel = np.ones((3,3), np.uint8)\n",
    "dilated_image = cv2.dilate(binary_image, kernel, iterations=2)\n",
    "\n",
    "# # Inverting the image back to get black lines on a white background\n",
    "final_image = cv2.bitwise_not(dilated_image)\n",
    "\n",
    "# Display the final image\n",
    "plt.imshow(final_image, cmap='gray')\n",
    "plt.axis('off')\n",
    "plt.show()\n",
    "\n",
    "# # Save the final image\n",
    "# output_path = \"/mnt/data/processed_drawing.png\"\n",
    "# cv2.imwrite(output_path, final_image)\n"
   ]
  },
  {
   "cell_type": "code",
   "execution_count": null,
   "metadata": {},
   "outputs": [],
   "source": [
    "# Load the image\n",
    "image_path = \"../data/children/stimuli_G/1015.png\"\n",
    "image = cv2.imread(image_path, cv2.IMREAD_GRAYSCALE)\n",
    "\n",
    "# Thresholding to create a binary image (convert grey lines to black)\n",
    "_, binary_image = cv2.threshold(image, 200, 255, cv2.THRESH_BINARY_INV)\n",
    "\n",
    "# Dilation to thicken the lines\n",
    "kernel = np.ones((3,3), np.uint8)\n",
    "dilated_image = cv2.dilate(binary_image, kernel, iterations=1)\n",
    "\n",
    "# Find contours to detect the area of the drawing\n",
    "contours, _ = cv2.findContours(dilated_image, cv2.RETR_EXTERNAL, cv2.CHAIN_APPROX_SIMPLE)\n",
    "x, y, w, h = cv2.boundingRect(contours[0])\n",
    "\n",
    "# Calculate the center of the bounding box\n",
    "center_x, center_y = x + w // 2, y + h // 2\n",
    "\n",
    "# Define the size of the cropped area (400x400)\n",
    "crop_size = 400\n",
    "half_crop_size = crop_size // 2\n",
    "\n",
    "# Calculate the cropping box boundaries\n",
    "start_x = max(0, center_x - half_crop_size)\n",
    "start_y = max(0, center_y - half_crop_size)\n",
    "\n",
    "end_x = start_x + crop_size\n",
    "end_y = start_y + crop_size\n",
    "\n",
    "# Make sure the cropping box does not go out of the image boundaries\n",
    "start_x = min(start_x, image.shape[1] - crop_size)\n",
    "start_y = min(start_y, image.shape[0] - crop_size)\n",
    "\n",
    "# Crop the image\n",
    "cropped_image = image[start_y:end_y, start_x:end_x]\n",
    "\n",
    "# Inverting the image back to get black lines on a white background\n",
    "_, binary_cropped = cv2.threshold(cropped_image, 200, 255, cv2.THRESH_BINARY_INV)\n",
    "dilated_cropped = cv2.dilate(binary_cropped, kernel, iterations=1)\n",
    "final_image = cv2.bitwise_not(dilated_cropped)\n",
    "\n",
    "# Display the final image\n",
    "plt.imshow(final_image, cmap='gray')\n",
    "plt.axis('off')\n",
    "plt.show()"
   ]
  },
  {
   "cell_type": "code",
   "execution_count": null,
   "metadata": {},
   "outputs": [],
   "source": [
    "# # Resize originals\n",
    "\n",
    "# def add_padding(image):\n",
    "#     # Get the current size of the image\n",
    "#     height, width = image.shape[:2]\n",
    "\n",
    "#     # Calculate the padding needed to make the height 400\n",
    "#     total_padding = 400 - height\n",
    "#     top_padding = total_padding // 2\n",
    "#     bottom_padding = total_padding - top_padding\n",
    "\n",
    "#     # Add padding to the image\n",
    "#     padded_image = cv2.copyMakeBorder(image, top_padding, bottom_padding, 0, 0, cv2.BORDER_CONSTANT, value=[255, 255, 255])\n",
    "\n",
    "#     return padded_image\n",
    "\n",
    "# for image_path in sorted(os.listdir(\"../stimuli/originals/\")):\n",
    "#     try:\n",
    "#         image = cv2.imread(\"../stimuli/originals/\" + image_path, cv2.IMREAD_GRAYSCALE)\n",
    "#         print(image.shape)\n",
    "#         # Add padding to make the image 400x400\n",
    "#         final_image = add_padding(image)\n",
    "\n",
    "#     except:\n",
    "#         # Crop 4 pixels from the top and bottom\n",
    "#         final_image = image[5:-4, :]  # This removes 4 pixels from the top and bottom\n",
    "    \n",
    "#     print(final_image.shape)\n",
    "#     output_path = \"../stimuli/originals/\" + image_path\n",
    "#     cv2.imwrite(output_path, final_image)"
   ]
  },
  {
   "cell_type": "code",
   "execution_count": null,
   "metadata": {},
   "outputs": [],
   "source": []
  }
 ],
 "metadata": {
  "kernelspec": {
   "display_name": "visual_creativity",
   "language": "python",
   "name": "python3"
  },
  "language_info": {
   "codemirror_mode": {
    "name": "ipython",
    "version": 3
   },
   "file_extension": ".py",
   "mimetype": "text/x-python",
   "name": "python",
   "nbconvert_exporter": "python",
   "pygments_lexer": "ipython3",
   "version": "3.12.5"
  }
 },
 "nbformat": 4,
 "nbformat_minor": 2
}
