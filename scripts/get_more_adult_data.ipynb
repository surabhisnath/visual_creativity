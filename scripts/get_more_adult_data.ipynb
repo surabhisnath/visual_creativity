{
 "cells": [
  {
   "cell_type": "code",
   "execution_count": 1,
   "metadata": {},
   "outputs": [],
   "source": [
    "import pandas as pd\n",
    "import subprocess"
   ]
  },
  {
   "cell_type": "code",
   "execution_count": 2,
   "metadata": {},
   "outputs": [],
   "source": [
    "name_to_sid = pd.read_excel(\"../data/Map_CrealyxID_AudraID.xlsx\")\n",
    "children_ids = pd.read_excel(\"../data/childrenID.xlsx\")\n",
    "children_ids_list = children_ids.dropna()[\"Children ID\"].tolist()[:-1]\n",
    "name_to_sid = name_to_sid[~(name_to_sid[\"userid\"].isin(children_ids_list)) & (name_to_sid[\"Stim_ID\"].isin([9, 11, 56]))]\n",
    "target_stim_ids = {9, 11, 56}\n",
    "users_with_all_stim_ids = name_to_sid.groupby('userid')['Stim_ID'].apply(lambda x: target_stim_ids.issubset(set(x)))\n",
    "result_userids = users_with_all_stim_ids[users_with_all_stim_ids].index.tolist()\n",
    "name_to_sid = name_to_sid[name_to_sid[\"userid\"].isin(result_userids)]"
   ]
  },
  {
   "cell_type": "code",
   "execution_count": 3,
   "metadata": {},
   "outputs": [],
   "source": [
    "userid_counts = name_to_sid.groupby('userid').size()\n",
    "filtered_userids = userid_counts[userid_counts >= 3].index\n",
    "name_to_sid = name_to_sid[name_to_sid['userid'].isin(filtered_userids)]\n",
    "name_to_sid = name_to_sid.sort_values(by=['userid', 'Stim_ID'])\n",
    "name_to_sid[\"newname\"] = name_to_sid['userid'].astype(str) + '__' + name_to_sid['Name in Qualtrics']"
   ]
  },
  {
   "cell_type": "code",
   "execution_count": 4,
   "metadata": {},
   "outputs": [],
   "source": [
    "stimuli_G = name_to_sid[name_to_sid[\"Stim_ID\"] == 9][\"newname\"].tolist()\n",
    "stimuli_I = name_to_sid[name_to_sid[\"Stim_ID\"] == 11][\"newname\"].tolist()\n",
    "stimuli_R = name_to_sid[name_to_sid[\"Stim_ID\"] == 56][\"newname\"].tolist()"
   ]
  },
  {
   "cell_type": "code",
   "execution_count": 5,
   "metadata": {},
   "outputs": [],
   "source": [
    "for im in stimuli_G:\n",
    "    subprocess.run([\"cp\", f\"../data/AuDrA_Drawings/primary_images/Images_9/\" + im.split(\"__\")[1], \"../data/new_adults/stimuli_G/\" + im], check=True)\n",
    "for im in stimuli_I:\n",
    "    subprocess.run([\"cp\", \"../data/AuDrA_Drawings/primary_images/Images_11/\" + im.split(\"__\")[1], \"../data/new_adults/stimuli_I/\" + im], check=True)\n",
    "for im in stimuli_R:\n",
    "    subprocess.run([\"cp\", \"../data/AuDrA_Drawings/primary_images/Images_56/\" + im.split(\"__\")[1], \"../data/new_adults/stimuli_R/\" + im], check=True)"
   ]
  },
  {
   "cell_type": "code",
   "execution_count": null,
   "metadata": {},
   "outputs": [],
   "source": []
  }
 ],
 "metadata": {
  "kernelspec": {
   "display_name": ".env_visual_creativity",
   "language": "python",
   "name": "python3"
  },
  "language_info": {
   "codemirror_mode": {
    "name": "ipython",
    "version": 3
   },
   "file_extension": ".py",
   "mimetype": "text/x-python",
   "name": "python",
   "nbconvert_exporter": "python",
   "pygments_lexer": "ipython3",
   "version": "3.12.4"
  }
 },
 "nbformat": 4,
 "nbformat_minor": 2
}
