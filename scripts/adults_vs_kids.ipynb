{
 "cells": [
  {
   "cell_type": "code",
   "execution_count": 1,
   "metadata": {},
   "outputs": [],
   "source": [
    "import pandas as pd\n",
    "import matplotlib.pyplot as plt\n",
    "import seaborn as sns\n",
    "sns.set(font=\"Verdana\")\n",
    "# Remove the gray background grid\n",
    "sns.set_style(\"white\")\n",
    "import warnings\n",
    "warnings.simplefilter(action='ignore')"
   ]
  },
  {
   "cell_type": "code",
   "execution_count": 2,
   "metadata": {},
   "outputs": [],
   "source": [
    "df_product = pd.read_csv(\"../csvs/product.csv\")\n",
    "df_process = pd.read_csv(\"../csvs/process.csv\")"
   ]
  },
  {
   "cell_type": "code",
   "execution_count": 3,
   "metadata": {},
   "outputs": [],
   "source": [
    "df_process[\"mean_flexibility\"] = (df_process[\"flexibility (manually)\"] + df_process[\"flexibility (categories)\"]) / 2\n",
    "df_process.loc[df_process[\"creator\"] == \"adult\", \"age\"] = 18\n",
    "df_process[\"age_group\"] = df_process[\"age\"].apply(\n",
    "    lambda age: \"early childhood\" if age in [4, 5, 6] else (\"middle childhood\" if age in [7, 8, 9] else \"adult\"))"
   ]
  },
  {
   "cell_type": "code",
   "execution_count": 18,
   "metadata": {},
   "outputs": [
    {
     "data": {
      "image/png": "[encoded data removed]",
      "text/plain": [
       "<Figure size 300x200 with 1 Axes>"
      ]
     },
     "metadata": {},
     "output_type": "display_data"
    }
   ],
   "source": [
    "df_process['dummy_hue'] = 'dummy'\n",
    "\n",
    "plt.figure(figsize=(3, 2))\n",
    "\n",
    "# Create a one-sided violin plot with density only above the line\n",
    "sns.violinplot(\n",
    "    x=\"mean_flexibility\", \n",
    "    y=\"age_group\", \n",
    "    data=df_process, \n",
    "    scale=\"width\", \n",
    "    inner=None, \n",
    "    linewidth=0, \n",
    "    cut=0, \n",
    "    bw=0.35, \n",
    "    split=True,\n",
    "    hue='dummy_hue',  # Use the dummy hue to split the violin\n",
    "    palette=[\"#b9a7cc\"]  # Set your desired color here\n",
    ")\n",
    "\n",
    "# Overlay the data points to add clarity\n",
    "# sns.stripplot(x=\"mean_flexibility\", y=\"age_group\", data=df_process, color='k', alpha=0.5, jitter=True)\n",
    "\n",
    "# Customize the x-axis ticks to be at intervals of 0.5\n",
    "xticks = np.arange(df_process[\"mean_flexibility\"].min(), df_process[\"mean_flexibility\"].max() + 0.5, 0.5)\n",
    "plt.xticks(xticks)\n",
    "\n",
    "# Set labels and title\n",
    "plt.xlabel('Mean Flexibility')\n",
    "plt.ylabel('Age Group')\n",
    "\n",
    "# Adjust the plot to make it more visually appealing\n",
    "sns.despine(right=True)  # Removes the left spine for a cleaner look\n",
    "plt.grid(False)\n",
    "plt.legend().remove()  # Remove the legend created by the dummy hue\n",
    "plt.show()\n"
   ]
  },
  {
   "cell_type": "code",
   "execution_count": 30,
   "metadata": {},
   "outputs": [
    {
     "data": {
      "text/html": [
       "<div>\n",
       "<style scoped>\n",
       "    .dataframe tbody tr th:only-of-type {\n",
       "        vertical-align: middle;\n",
       "    }\n",
       "\n",
       "    .dataframe tbody tr th {\n",
       "        vertical-align: top;\n",
       "    }\n",
       "\n",
       "    .dataframe thead th {\n",
       "        text-align: right;\n",
       "    }\n",
       "</style>\n",
       "<table border=\"1\" class=\"dataframe\">\n",
       "  <thead>\n",
       "    <tr style=\"text-align: right;\">\n",
       "      <th></th>\n",
       "      <th>ID</th>\n",
       "      <th>creator</th>\n",
       "      <th>age</th>\n",
       "      <th>stim</th>\n",
       "      <th>inverted</th>\n",
       "      <th>category1</th>\n",
       "      <th>category2</th>\n",
       "      <th>category3</th>\n",
       "      <th>confidence</th>\n",
       "      <th>creativity</th>\n",
       "      <th>filepath</th>\n",
       "    </tr>\n",
       "  </thead>\n",
       "  <tbody>\n",
       "    <tr>\n",
       "      <th>213</th>\n",
       "      <td>4011</td>\n",
       "      <td>child</td>\n",
       "      <td>4.0</td>\n",
       "      <td>G</td>\n",
       "      <td>False</td>\n",
       "      <td>creature/monster</td>\n",
       "      <td>NaN</td>\n",
       "      <td>NaN</td>\n",
       "      <td>1.0</td>\n",
       "      <td></td>\n",
       "      <td>../data/children/stimuli_G/4011.png</td>\n",
       "    </tr>\n",
       "  </tbody>\n",
       "</table>\n",
       "</div>"
      ],
      "text/plain": [
       "       ID creator  age stim  inverted         category1 category2 category3  \\\n",
       "213  4011   child  4.0    G     False  creature/monster       NaN       NaN   \n",
       "\n",
       "     confidence creativity                             filepath  \n",
       "213         1.0             ../data/children/stimuli_G/4011.png  "
      ]
     },
     "execution_count": 30,
     "metadata": {},
     "output_type": "execute_result"
    }
   ],
   "source": [
    "df_product[df_product[\"creativity\"] == \" \"]"
   ]
  },
  {
   "cell_type": "code",
   "execution_count": null,
   "metadata": {},
   "outputs": [],
   "source": []
  }
 ],
 "metadata": {
  "kernelspec": {
   "display_name": "visual_creativity",
   "language": "python",
   "name": "python3"
  },
  "language_info": {
   "codemirror_mode": {
    "name": "ipython",
    "version": 3
   },
   "file_extension": ".py",
   "mimetype": "text/x-python",
   "name": "python",
   "nbconvert_exporter": "python",
   "pygments_lexer": "ipython3",
   "version": "undefined.undefined.undefined"
  }
 },
 "nbformat": 4,
 "nbformat_minor": 2
}
